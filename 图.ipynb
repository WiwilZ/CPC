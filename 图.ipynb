{
 "cells": [
  {
   "cell_type": "markdown",
   "source": [
    "# 单源最短路径"
   ],
   "metadata": {
    "collapsed": false
   },
   "id": "982edbbb46db6363"
  },
  {
   "cell_type": "markdown",
   "source": [
    "## Dijkstra算法"
   ],
   "metadata": {
    "collapsed": false
   },
   "id": "1b8c19cb2bc65cea"
  },
  {
   "cell_type": "code",
   "execution_count": null,
   "id": "initial_id",
   "metadata": {
    "collapsed": true
   },
   "outputs": [],
   "source": [
    "import heapq\n",
    "from dataclasses import dataclass\n",
    "from math import inf\n",
    "\n",
    "\n",
    "@dataclass\n",
    "class Edge:\n",
    "    to: int\n",
    "    w: int\n",
    "    next: int\n",
    "\n",
    "\n",
    "class Graph:\n",
    "    def __init__(self, n, m):\n",
    "        self.head = [0] * (n + 1)\n",
    "        self.edge = [None] * (m + 1)\n",
    "        self.cnt = 0\n",
    "\n",
    "    def add_edge(self, u, v, w):\n",
    "        self.cnt += 1\n",
    "        self.edge[self.cnt] = Edge(v, w, self.head[u])\n",
    "        self.head[u] = self.cnt\n",
    "\n",
    "    def iter_adjacency(self, u):\n",
    "        i = self.head[u]\n",
    "        while i:\n",
    "            yield self.edge[i].to, self.edge[i].w\n",
    "            i = self.edge[i].next\n",
    "\n",
    "\n",
    "n, m, s = map(int, input().split())\n",
    "\n",
    "graph = Graph(n, m)\n",
    "for _ in range(m):\n",
    "    graph.add_edge(*map(int, input().split()))\n",
    "\n",
    "dist = [inf] * (n + 1)\n",
    "dist[s] = 0\n",
    "heap = [(0, s)]\n",
    "visited = [False] * (n + 1)\n",
    "\n",
    "while heap:\n",
    "    u = heapq.heappop(heap)[1]\n",
    "    if visited[u]:\n",
    "        continue\n",
    "    visited[u] = True\n",
    "    for v, w in graph.iter_adjacency(u):\n",
    "        if visited[v] or dist[v] < dist[u] + w:\n",
    "            continue\n",
    "        dist[v] = dist[u] + w\n",
    "        heapq.heappush(heap, (dist[v], v))\n"
   ]
  },
  {
   "cell_type": "markdown",
   "source": [
    "## SPFA算法"
   ],
   "metadata": {
    "collapsed": false
   },
   "id": "f5df45e95fc736d3"
  },
  {
   "cell_type": "code",
   "execution_count": null,
   "outputs": [],
   "source": [
    "from collections import deque\n",
    "from dataclasses import dataclass\n",
    "from math import inf\n",
    "\n",
    "\n",
    "@dataclass\n",
    "class Edge:\n",
    "    to: int\n",
    "    w: int\n",
    "    next: int\n",
    "\n",
    "\n",
    "class Graph:\n",
    "    def __init__(self, n, m):\n",
    "        self.head = [0] * (n + 1)\n",
    "        self.edge = [None] * (m + 1)\n",
    "        self.cnt = 0\n",
    "\n",
    "    def add_edge(self, u, v, w):\n",
    "        self.cnt += 1\n",
    "        self.edge[self.cnt] = Edge(v, w, self.head[u])\n",
    "        self.head[u] = self.cnt\n",
    "\n",
    "    def iter_adjacency(self, u):\n",
    "        i = self.head[u]\n",
    "        while i:\n",
    "            yield self.edge[i].to, self.edge[i].w\n",
    "            i = self.edge[i].next\n",
    "\n",
    "\n",
    "n, m, s = map(int, input().split())\n",
    "\n",
    "graph = Graph(n, m)\n",
    "for _ in range(m):\n",
    "    graph.add_edge(*map(int, input().split()))\n",
    "\n",
    "dist = [inf] * (n + 1)\n",
    "dist[s] = 0\n",
    "queue = deque([s])\n",
    "visited = [False] * (n + 1)\n",
    "\n",
    "while queue:\n",
    "    u = queue.popleft()\n",
    "    visited[u] = False\n",
    "    for v, w in graph.iter_adjacency(u):\n",
    "        if dist[v] < dist[u] + w:\n",
    "            continue\n",
    "        dist[v] = dist[u] + w\n",
    "        if not visited[v]:\n",
    "            visited[v] = True\n",
    "            queue.append(v)\n"
   ],
   "metadata": {
    "collapsed": false
   },
   "id": "cdaf7bc3c5524ae4"
  },
  {
   "cell_type": "markdown",
   "source": [
    "# 多源最短路径\n",
    "## Floyd算法"
   ],
   "metadata": {
    "collapsed": false
   },
   "id": "59de1b997d34fbd9"
  },
  {
   "cell_type": "code",
   "execution_count": null,
   "outputs": [],
   "source": [
    "from math import inf\n",
    "\n",
    "\n",
    "n, m = map(int, input().split())\n",
    "\n",
    "dp = [[inf] * (n + 1) for _ in range(n + 1)]\n",
    "for i in range(1, n + 1):\n",
    "    dp[i][i] = 0\n",
    "for _ in range(m):\n",
    "    u, v, w = map(int, input().split())\n",
    "    dp[u][v] = w\n",
    "\n",
    "for k in range(1, n + 1):\n",
    "    for i in range(1, n + 1):\n",
    "        for j in range(1, n + 1):\n",
    "            dp[i][j] = min(dp[i][j], dp[i][k] + dp[k][j])"
   ],
   "metadata": {
    "collapsed": false
   },
   "id": "dcfbe6ff881c05a2"
  }
 ],
 "metadata": {
  "kernelspec": {
   "display_name": "Python 3",
   "language": "python",
   "name": "python3"
  },
  "language_info": {
   "codemirror_mode": {
    "name": "ipython",
    "version": 2
   },
   "file_extension": ".py",
   "mimetype": "text/x-python",
   "name": "python",
   "nbconvert_exporter": "python",
   "pygments_lexer": "ipython2",
   "version": "2.7.6"
  }
 },
 "nbformat": 4,
 "nbformat_minor": 5
}
