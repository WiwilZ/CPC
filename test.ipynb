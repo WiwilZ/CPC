{
 "cells": [
  {
   "cell_type": "code",
   "execution_count": 25,
   "outputs": [
    {
     "data": {
      "text/plain": "4"
     },
     "execution_count": 25,
     "metadata": {},
     "output_type": "execute_result"
    }
   ],
   "source": [
    "def binary_search_first_smaller(nums, target):\n",
    "    left = 0\n",
    "    right = len(nums) - 1\n",
    "\n",
    "    while left <= right:\n",
    "        mid = (left + right) // 2\n",
    "        if nums[mid] <= target:\n",
    "            left = mid + 1\n",
    "        else:\n",
    "            right = mid - 1\n",
    "\n",
    "    return left\n",
    "\n",
    "binary_search_first_smaller([0, 2, 4, 6, 8, 10], 6)"
   ],
   "metadata": {
    "collapsed": false,
    "ExecuteTime": {
     "end_time": "2023-09-17T13:03:14.828184600Z",
     "start_time": "2023-09-17T13:03:14.817773400Z"
    }
   }
  },
  {
   "cell_type": "code",
   "execution_count": 2,
   "metadata": {},
   "outputs": [],
   "source": [
    "class Bit:\n",
    "    def __init__(self, *args, data=None):\n",
    "        self.data = data or list(''.join(args))\n",
    "\n",
    "    def __lshift__(self, n):\n",
    "        return Bit(data=self.data[n:] + ['0'] * n)\n",
    "\n",
    "    def __rshift__(self, n):\n",
    "        return Bit(data=['0'] * n + self.data[:-n])\n",
    "\n",
    "    def __and__(self, v):\n",
    "        x = f'{v:b}' if isinstance(v, int) else v.data\n",
    "        data = ['0'] * (len(self.data) - len(x)) + self.data[-len(x):]\n",
    "        for i in range(-1, -len(x) - 1, -1):\n",
    "            if self.data[i] == '1':\n",
    "                data[i] = x[i]\n",
    "            elif x[i] == '1':\n",
    "                data[i] = self.data[i]\n",
    "            elif self.data[i] == '0' or x[i] == '0':\n",
    "                data[i] = '0'\n",
    "            else:\n",
    "                data[i] = 'x'\n",
    "        return Bit(data=data)\n",
    "\n",
    "    def __or__(self, v):\n",
    "        data = self.data[:]\n",
    "        x = f'{v:b}' if isinstance(v, int) else v.data\n",
    "        for i in range(-1, -len(x) - 1, -1):\n",
    "            if self.data[i] == '0':\n",
    "                data[i] = x[i]\n",
    "            elif x[i] == '0':\n",
    "                data[i] = self.data[i]\n",
    "            elif self.data[i] == '1' or x[i] == '1':\n",
    "                data[i] = '1'\n",
    "            else:\n",
    "                data[i] = 'x'\n",
    "        return Bit(data=data)\n",
    "\n",
    "    def __str__(self):\n",
    "        return ' '.join(''.join(self.data[i:i + 8]) for i in range(0, len(self.data), 8))\n",
    "\n",
    "    __repr__ = __str__\n"
   ]
  },
  {
   "cell_type": "code",
   "execution_count": 111,
   "metadata": {},
   "outputs": [
    {
     "data": {
      "text/plain": [
       "000pqrst 000klmno 000fghij 000xycde 000pqrst 000klmno 000fghij 000abcde 000pqrst 000klmno 000fghij 000zbcde 000pqrst 000klmno 000fghij 000abcde"
      ]
     },
     "execution_count": 111,
     "metadata": {},
     "output_type": "execute_result"
    }
   ],
   "source": [
    "t = Bit('000pqrst', '000klmno', '000fghij', '000xycde', '000pqrst', '000klmno', '000fghij', '000abcde', '000pqrst',\n",
    "        '000klmno', '000fghij', '000zbcde', '000pqrst', '000klmno', '000fghij', '000abcde')\n",
    "t"
   ]
  },
  {
   "cell_type": "code",
   "execution_count": 112,
   "metadata": {},
   "outputs": [
    {
     "data": {
      "text/plain": [
       "000000kl mnopqrst 000000xy cdefghij 000000kl mnopqrst 000000ab cdefghij 000000kl mnopqrst 000000zb cdefghij 000000kl mnopqrst 000000ab cdefghij"
      ]
     },
     "execution_count": 112,
     "metadata": {},
     "output_type": "execute_result"
    }
   ],
   "source": [
    "t = t << 5 & 0x03e003e003e003e003e003e003e003e0 | t >> 8 & 0x001f001f001f001f001f001f001f001f\n",
    "t"
   ]
  },
  {
   "cell_type": "code",
   "execution_count": 113,
   "metadata": {},
   "outputs": [
    {
     "data": {
      "text/plain": [
       "00000000 0000xycd efghijkl mnopqrst 00000000 0000abcd efghijkl mnopqrst 00000000 0000zbcd efghijkl mnopqrst 00000000 0000abcd efghijkl mnopqrst"
      ]
     },
     "execution_count": 113,
     "metadata": {},
     "output_type": "execute_result"
    }
   ],
   "source": [
    "t = t << 10 & 0x000ffcc0000ffcc0000ffcc0000ffcc0 | t >> 16 & 0x000003ff000003ff000003ff000003ff\n",
    "t"
   ]
  },
  {
   "cell_type": "code",
   "execution_count": 121,
   "metadata": {},
   "outputs": [
    {
     "data": {
      "text/plain": [
       "00000000 00000000 00000000 abcdefgh ijklmnop qrstxycd efghijkl mnopqrst 00000000 00000000 00000000 abcdefgh ijklmnop qrstzbcd efghijkl mnopqrst"
      ]
     },
     "execution_count": 121,
     "metadata": {},
     "output_type": "execute_result"
    }
   ],
   "source": [
    "t = t << 20 & 0x000000fffff00000000000fffff00000 | t >> 32 & 0x00000000000fffff00000000000fffff\n",
    "t"
   ]
  },
  {
   "cell_type": "code",
   "execution_count": 124,
   "metadata": {},
   "outputs": [
    {
     "data": {
      "text/plain": [
       "qrstxycd efghijkl mnopqrst 00000000 00000000 00000000 abcdefgh ijklmnop qrstzbcd efghijkl mnopqrst abcdefgh ijklmnop qrstxycd efghijkl mnopqrst"
      ]
     },
     "execution_count": 124,
     "metadata": {},
     "output_type": "execute_result"
    }
   ],
   "source": [
    "t << 40 | t >> 64"
   ]
  },
  {
   "cell_type": "code",
   "execution_count": 127,
   "metadata": {},
   "outputs": [
    {
     "data": {
      "text/plain": [
       "0011000h 0011000g 0011000f 0011000e 0011000d 0011000c 0011000b 0011000a"
      ]
     },
     "execution_count": 127,
     "metadata": {},
     "output_type": "execute_result"
    }
   ],
   "source": [
    "t = Bit('0011000h', '0011000g', '0011000f', '0011000e', '0011000d', '0011000c', '0011000b', '0011000a')\n",
    "t"
   ]
  },
  {
   "cell_type": "code",
   "execution_count": 128,
   "metadata": {},
   "outputs": [
    {
     "data": {
      "text/plain": [
       "h0011100 gh011100 fg011100 ef011100 de011100 cd011100 bc011100 ab001100"
      ]
     },
     "execution_count": 128,
     "metadata": {},
     "output_type": "execute_result"
    }
   ],
   "source": [
    "t = t << 7 | t >> 2\n",
    "t"
   ]
  },
  {
   "cell_type": "code",
   "execution_count": 129,
   "metadata": {},
   "outputs": [
    {
     "data": {
      "text/plain": [
       "00000000 gh000000 00000000 ef000000 00000000 cd000000 00000000 ab000000"
      ]
     },
     "execution_count": 129,
     "metadata": {},
     "output_type": "execute_result"
    }
   ],
   "source": [
    "t &= 0x00c000c000c000c0\n",
    "t"
   ]
  },
  {
   "cell_type": "code",
   "execution_count": 130,
   "metadata": {},
   "outputs": [
    {
     "data": {
      "text/plain": [
       "00000000 gh000000 00000000 efgh0000 00000000 cdef0000 00000000 abcd0000"
      ]
     },
     "execution_count": 130,
     "metadata": {},
     "output_type": "execute_result"
    }
   ],
   "source": [
    "t |= t >> 18\n",
    "t"
   ]
  },
  {
   "cell_type": "code",
   "execution_count": 132,
   "metadata": {},
   "outputs": [
    {
     "data": {
      "text/plain": [
       "00000000 gh000000 00000000 efgh0000 00000000 cdefgh00 00000000 abcdefgh"
      ]
     },
     "execution_count": 132,
     "metadata": {},
     "output_type": "execute_result"
    }
   ],
   "source": [
    "t"
   ]
  },
  {
   "cell_type": "code",
   "execution_count": 118,
   "metadata": {},
   "outputs": [
    {
     "data": {
      "text/plain": [
       "0011000p 0011000o 0011000n 0011000m 0011000l 0011000k 0011000j 0011000i 0011000h 0011000g 0011000f 0011000e 0011000d 0011000c 0011000b 0011000a"
      ]
     },
     "execution_count": 118,
     "metadata": {},
     "output_type": "execute_result"
    }
   ],
   "source": [
    "t = Bit('0011000p', '0011000o', '0011000n', '0011000m', '0011000l', '0011000k', '0011000j', '0011000i', '0011000h',\n",
    "        '0011000g', '0011000f', '0011000e', '0011000d', '0011000c', '0011000b', '0011000a')\n",
    "t"
   ]
  },
  {
   "cell_type": "code",
   "execution_count": 119,
   "metadata": {},
   "outputs": [
    {
     "data": {
      "text/plain": [
       "op011100 no011100 mn011100 lm011100 kl011100 jk011100 ij011100 hi011100 gh011100 fg011100 ef011100 de011100 cd011100 bc011100 ab001100 0a000000"
      ]
     },
     "execution_count": 119,
     "metadata": {},
     "output_type": "execute_result"
    }
   ],
   "source": [
    "t = t << 15 | t << 6\n",
    "t"
   ]
  },
  {
   "cell_type": "code",
   "execution_count": 120,
   "metadata": {},
   "outputs": [
    {
     "data": {
      "text/plain": [
       "op000000 00000000 mn000000 00000000 kl000000 00000000 ij000000 00000000 gh000000 00000000 ef000000 00000000 cd000000 00000000 ab000000 00000000"
      ]
     },
     "execution_count": 120,
     "metadata": {},
     "output_type": "execute_result"
    }
   ],
   "source": [
    "t &= 0xc000c000c000c000c000c000c000c000\n",
    "t"
   ]
  },
  {
   "cell_type": "code",
   "execution_count": 121,
   "metadata": {},
   "outputs": [
    {
     "data": {
      "text/plain": [
       "op000000 00000000 mnop0000 00000000 klmn0000 00000000 ijkl0000 00000000 ghij0000 00000000 efgh0000 00000000 cdef0000 00000000 abcd0000 00000000"
      ]
     },
     "execution_count": 121,
     "metadata": {},
     "output_type": "execute_result"
    }
   ],
   "source": [
    "t |= t >> 18\n",
    "t"
   ]
  },
  {
   "cell_type": "code",
   "execution_count": 122,
   "metadata": {},
   "outputs": [
    {
     "data": {
      "text/plain": [
       "op000000 00000000 mnop0000 00000000 klmnop00 00000000 ijklmnop 00000000 ghijklmn 00000000 efghijkl 00000000 cdefghij 00000000 abcdefgh 00000000"
      ]
     },
     "execution_count": 122,
     "metadata": {},
     "output_type": "execute_result"
    }
   ],
   "source": [
    "t |= t >> 36\n",
    "t"
   ]
  },
  {
   "cell_type": "code",
   "execution_count": 123,
   "metadata": {},
   "outputs": [
    {
     "data": {
      "text/plain": [
       "op000000 00000000 mnop0000 00000000 klmnop00 00000000 ijklmnop 00000000 ghijklmn op000000 efghijkl mnop0000 cdefghij klmnop00 abcdefgh ijklmnop"
      ]
     },
     "execution_count": 123,
     "metadata": {},
     "output_type": "execute_result"
    }
   ],
   "source": [
    "t |= t >> 72\n",
    "t"
   ]
  },
  {
   "cell_type": "code",
   "execution_count": 76,
   "metadata": {},
   "outputs": [
    {
     "data": {
      "text/plain": [
       "00000vwx 00000stu 00000pqr 00000mno 00000jkl 00000ghi 00000def 00000zbc 00000vwx 00000stu 00000pqr 00000mno 00000jkl 00000ghi 00000def 00000abc"
      ]
     },
     "execution_count": 76,
     "metadata": {},
     "output_type": "execute_result"
    }
   ],
   "source": [
    "t = Bit('00110vwx', '00110stu', '00110pqr', '00110mno', '00110jkl', '00110ghi', '00110def', '00110zbc', '00110vwx',\n",
    "        '00110stu', '00110pqr', '00110mno', '00110jkl', '00110ghi', '00110def', '00110abc')\n",
    "t &= 0x07070707070707070707070707070707\n",
    "t"
   ]
  },
  {
   "cell_type": "code",
   "execution_count": 77,
   "metadata": {},
   "outputs": [
    {
     "data": {
      "text/plain": [
       "00stuvwx 00000000 00mnopqr 00000000 00ghijkl 00000000 00zbcdef 00000000 00stuvwx 00000000 00mnopqr 00000000 00ghijkl 00000000 00abcdef 00000000"
      ]
     },
     "execution_count": 77,
     "metadata": {},
     "output_type": "execute_result"
    }
   ],
   "source": [
    "t = (t | t << 11) & 0x3f003f003f003f003f003f003f003f00\n",
    "t"
   ]
  },
  {
   "cell_type": "code",
   "execution_count": 78,
   "metadata": {},
   "outputs": [
    {
     "data": {
      "text/plain": [
       "00000000 00000000 00mnopqr stuvwx00 00000000 00000000 00zbcdef ghijkl00 00000000 00000000 00mnopqr stuvwx00 00000000 00000000 00abcdef ghijkl00"
      ]
     },
     "execution_count": 78,
     "metadata": {},
     "output_type": "execute_result"
    }
   ],
   "source": [
    "t = (t | t >> 22) & 0x00003ffc00003ffc00003ffc00003ffc\n",
    "t"
   ]
  },
  {
   "cell_type": "code",
   "execution_count": 79,
   "metadata": {},
   "outputs": [
    {
     "data": {
      "text/plain": [
       "00000000 00000000 zbcdefgh ijklmnop qrstuvwx 00000000 00000000 00000000 00000000 00000000 abcdefgh ijklmnop qrstuvwx 00000000 00000000 00000000"
      ]
     },
     "execution_count": 79,
     "metadata": {},
     "output_type": "execute_result"
    }
   ],
   "source": [
    "t = (t << 34 | t >> 10) & 0x0000ffffff0000000000ffffff000000\n",
    "t"
   ]
  },
  {
   "cell_type": "code",
   "execution_count": 80,
   "metadata": {},
   "outputs": [
    {
     "data": {
      "text/plain": [
       "00000000 00000000 zbcdefgh ijklmnop qrstuvwx 00000000 00000000 00000000 00000000 00000000 abcdefgh ijklmnop qrstuvwx zbcdefgh ijklmnop qrstuvwx"
      ]
     },
     "execution_count": 80,
     "metadata": {},
     "output_type": "execute_result"
    }
   ],
   "source": [
    "t | t >> 88"
   ]
  },
  {
   "cell_type": "code",
   "execution_count": 175,
   "metadata": {},
   "outputs": [
    {
     "data": {
      "text/plain": [
       "00000000 00000001 00011010 00001001"
      ]
     },
     "execution_count": 175,
     "metadata": {},
     "output_type": "execute_result"
    }
   ],
   "source": [
    "t = Bit('00110000', '01100001', '01111010', '00111001')\n",
    "mask = t & 0x40404040\n",
    "t &= mask >> 2 | 0x0f0f0f0f\n",
    "t"
   ]
  },
  {
   "cell_type": "code",
   "execution_count": 151,
   "metadata": {},
   "outputs": [
    {
     "data": {
      "text/plain": [
       "00000000 01000000 01000000 00000000"
      ]
     },
     "execution_count": 151,
     "metadata": {},
     "output_type": "execute_result"
    }
   ],
   "source": [
    "mask = t & 0x40404040\n",
    "mask"
   ]
  },
  {
   "cell_type": "code",
   "execution_count": 152,
   "metadata": {},
   "outputs": [
    {
     "data": {
      "text/plain": [
       "00000000 00001001 00001001 00000000"
      ]
     },
     "execution_count": 152,
     "metadata": {},
     "output_type": "execute_result"
    }
   ],
   "source": [
    "mask = mask >> 3 | mask >> 6\n",
    "mask"
   ]
  },
  {
   "cell_type": "code",
   "execution_count": 170,
   "metadata": {},
   "outputs": [
    {
     "data": {
      "text/plain": [
       "00110000 01101010 01101111 00111001"
      ]
     },
     "execution_count": 170,
     "metadata": {},
     "output_type": "execute_result"
    }
   ],
   "source": [
    "t = Bit('00110000', '01101010', '01101111', '00111001')\n",
    "# t &= 0x0f0f0f0f\n",
    "t"
   ]
  },
  {
   "cell_type": "code",
   "execution_count": 171,
   "metadata": {},
   "outputs": [
    {
     "data": {
      "text/plain": [
       "10110110 11111011 11111111 00111001"
      ]
     },
     "execution_count": 171,
     "metadata": {},
     "output_type": "execute_result"
    }
   ],
   "source": [
    "t = (t | t << 12)\n",
    "t"
   ]
  },
  {
   "cell_type": "code",
   "execution_count": 158,
   "metadata": {},
   "outputs": [
    {
     "data": {
      "text/plain": [
       "10100000 00000000 10011111 10100000"
      ]
     },
     "execution_count": 158,
     "metadata": {},
     "output_type": "execute_result"
    }
   ],
   "source": [
    "t |= t >> 24\n",
    "t"
   ]
  },
  {
   "cell_type": "code",
   "execution_count": 162,
   "metadata": {},
   "outputs": [
    {
     "name": "stdout",
     "output_type": "stream",
     "text": [
      "00110000 00110001 00110010 00110011 00110100 00110101 00110110 00110111 00111000 00111001\n"
     ]
    }
   ],
   "source": [
    "import string\n",
    "\n",
    "print(*(f'{ord(str(i)):b}'.rjust(8, '0') for i in string.digits), sep=' ')"
   ]
  },
  {
   "cell_type": "code",
   "execution_count": 2,
   "metadata": {},
   "outputs": [
    {
     "name": "stdout",
     "output_type": "stream",
     "text": [
      "01100001 01100010 01100011 01100100 01100101 01100110 01100111 01101000 01101001 01101010 01101011 01101100 01101101 01101110 01101111 01110000 01110001 01110010 01110011 01110100 01110101 01110110 01110111 01111000 01111001 01111010\n",
      "10 11 12 13 14 15 0 1 2 3 4 5 6 7 8 9 10 11 12 13 14 15 0 1 2 3\n"
     ]
    }
   ],
   "source": [
    "import string\n",
    "\n",
    "print(*(f'{ord(i):b}'.rjust(8, '0') for i in string.ascii_lowercase), sep=' ')\n",
    "print(*((ord(i) + 9) & 0xf for i in string.ascii_lowercase), sep=' ')"
   ]
  },
  {
   "cell_type": "code",
   "execution_count": null,
   "metadata": {},
   "outputs": [],
   "source": [
    "00000010\n",
    "00000010\n",
    "00000010\n",
    "00000010\n",
    "00000010\n",
    "00000010\n",
    "00000010\n",
    "00000010\n",
    "\n",
    "00000000\n",
    "00000110\n",
    "00000000\n",
    "00000110\n",
    "00000000\n",
    "00000110\n",
    "00000000\n",
    "00000110\n",
    "00000000\n",
    "00000010\n",
    "00000000\n",
    "00000010\n",
    "00000000\n",
    "00000010\n",
    "00000000\n",
    "00000010\n",
    "00000000\n",
    "00001000\n",
    "00000000\n",
    "00001000\n",
    "00000000\n",
    "00001000\n",
    "00000000\n",
    "00001000\n",
    "\n",
    "00000000\n",
    "00000000\n",
    "00000000\n",
    "01001000\n",
    "00000000\n",
    "00000000\n",
    "00000000\n",
    "01001000\n",
    "00000000\n",
    "00000000\n",
    "00000000\n",
    "00001000\n",
    "00000000\n",
    "00000000\n",
    "00000000\n",
    "00001000\n",
    "00000000\n",
    "00000000\n",
    "00000000\n",
    "01010000\n",
    "00000000\n",
    "00000000\n",
    "00000000\n",
    "01010000\n",
    "\n"
   ]
  },
  {
   "cell_type": "code",
   "execution_count": 180,
   "metadata": {},
   "outputs": [
    {
     "data": {
      "text/plain": [
       "(66, 83)"
      ]
     },
     "execution_count": 180,
     "metadata": {},
     "output_type": "execute_result"
    }
   ],
   "source": [
    "int('g' * 16, 17).bit_length(), int('z' * 16, 36).bit_length()"
   ]
  },
  {
   "cell_type": "code",
   "execution_count": 181,
   "metadata": {},
   "outputs": [
    {
     "data": {
      "text/plain": [
       "1853020188851841"
      ]
     },
     "execution_count": 181,
     "metadata": {},
     "output_type": "execute_result"
    }
   ],
   "source": [
    "3 ** 32"
   ]
  },
  {
   "cell_type": "code",
   "execution_count": null,
   "metadata": {},
   "outputs": [],
   "source": [
    "1 * 2\n",
    "(1) * (2)\n",
    "(1) * (1) * 2 ^ 1"
   ]
  },
  {
   "cell_type": "code",
   "execution_count": null,
   "metadata": {},
   "outputs": [],
   "source": [
    "1 * 2 * 3\n",
    "(1 * 3) * (2)\n",
    "(1 * 3) * (1) * 2 ^ 1"
   ]
  },
  {
   "cell_type": "code",
   "execution_count": null,
   "metadata": {},
   "outputs": [],
   "source": [
    "1 * 2 * 3 * 4\n",
    "(1 * 3) * (2 * 4)\n",
    "(1 * 3) * (1 * 2) * 2 ^ 2\n",
    "(1 * 3) * (1) * (1) * (2) * 2 ^ 2\n",
    "(1 * 3) * (1) * (1) * (1) * 2 ^ 1 * 2 ^ 2\n",
    "2 ^ 3"
   ]
  },
  {
   "cell_type": "code",
   "execution_count": null,
   "metadata": {},
   "outputs": [],
   "source": [
    "1 * 2 * 3 * 4 * 5 * 6 * 7 * 8 * 9 * 10 * 11 * 12 * 13 * 14 * 15 * 16 * 17 * 18\n",
    "(1 * 3 * 5 * 7 * 9 * 11 * 13 * 15 * 17) * (2 * 4 * 6 * 8 * 10 * 12 * 14 * 16 * 18)\n",
    "(1 * 3 * 5 * 7 * 9 * 11 * 13 * 15 * 17) * (1 * 2 * 3 * 4 * 5 * 6 * 7 * 8 * 9) * 2 ^ 9\n",
    "(1 * 3 * 5 * 7 * 9 * 11 * 13 * 15 * 17) * (1 * 3 * 5 * 7 * 9) * (2 * 4 * 6 * 8) * 2 ^ 9\n",
    "(1 * 3 * 5 * 7 * 9 * 11 * 13 * 15 * 17) * (1 * 3 * 5 * 7 * 9) * (1 * 2 * 3 * 4) * 2 ^ 4 * 2 ^ 9\n",
    "(1 * 3 * 5 * 7 * 9 * 11 * 13 * 15 * 17) * (1 * 3 * 5 * 7 * 9) * (1 * 3) * (2 * 4) * 2 ^ 4 * 2 ^ 9\n",
    "(1 * 3 * 5 * 7 * 9 * 11 * 13 * 15 * 17) * (1 * 3 * 5 * 7 * 9) * (1 * 3) * (1 * 2) * 2 ^ 2 * 2 ^ 4 * 2 ^ 9\n",
    "(1 * 3 * 5 * 7 * 9 * 11 * 13 * 15 * 17) * (1 * 3 * 5 * 7 * 9) * (1 * 3) * (1) * (2) * 2 ^ 2 * 2 ^ 4 * 2 ^ 9\n",
    "(1 * 3 * 5 * 7 * 9 * 11 * 13 * 15 * 17) * (1 * 3 * 5 * 7 * 9) * (1 * 3) * (1) * (1) * 2 ^ 1 * 2 ^ 2 * 2 ^ 4 * 2 ^ 9\n",
    "2 ^ 16"
   ]
  },
  {
   "cell_type": "code",
   "execution_count": null,
   "metadata": {},
   "outputs": [],
   "source": [
    "1 * 2 * 3 * 4 * 5 * 6 * 7 * 8 * 9 * 10 * 11 * 12 * 13 * 14 * 15 * 16 * 17 * 18 * 19\n",
    "(1 * 3 * 5 * 7 * 9 * 11 * 13 * 15 * 17 * 19) * (2 * 4 * 6 * 8 * 10 * 12 * 14 * 16 * 18)\n",
    "(1 * 3 * 5 * 7 * 9 * 11 * 13 * 15 * 17 * 19) * (1 * 2 * 3 * 4 * 5 * 6 * 7 * 8 * 9) * 2 ^ 9\n",
    "(1 * 3 * 5 * 7 * 9 * 11 * 13 * 15 * 17 * 19) * (1 * 3 * 5 * 7 * 9) * (2 * 4 * 6 * 8) * 2 ^ 9\n",
    "(1 * 3 * 5 * 7 * 9 * 11 * 13 * 15 * 17 * 19) * (1 * 3 * 5 * 7 * 9) * (1 * 2 * 3 * 4) * 2 ^ 4 * 2 ^ 9\n",
    "(1 * 3 * 5 * 7 * 9 * 11 * 13 * 15 * 17 * 19) * (1 * 3 * 5 * 7 * 9) * (1 * 3) * (2 * 4) * 2 ^ 4 * 2 ^ 9\n",
    "(1 * 3 * 5 * 7 * 9 * 11 * 13 * 15 * 17 * 19) * (1 * 3 * 5 * 7 * 9) * (1 * 3) * (1 * 2) * 2 ^ 2 * 2 ^ 4 * 2 ^ 9\n",
    "(1 * 3 * 5 * 7 * 9 * 11 * 13 * 15 * 17 * 19) * (1 * 3 * 5 * 7 * 9) * (1 * 3) * (1) * (2) * 2 ^ 2 * 2 ^ 4 * 2 ^ 9\n",
    "(1 * 3 * 5 * 7 * 9 * 11 * 13 * 15 * 17 * 19) * (1 * 3 * 5 * 7 * 9) * (1 * 3) * (1) * (1) * 2 ^ 1 * 2 ^ 2 * 2 ^ 4 * 2 ^ 9\n",
    "2 ^ 16"
   ]
  },
  {
   "cell_type": "code",
   "execution_count": null,
   "metadata": {},
   "outputs": [],
   "source": [
    "1 * 2 * 3 * 4 * 5 * 6 * 7 * 8 * 9 * 10 * 11 * 12 * 13 * 14 * 15 * 16 * 17 * 18 * 19 * 20\n",
    "(1 * 3 * 5 * 7 * 9 * 11 * 13 * 15 * 17 * 19) * (2 * 4 * 6 * 8 * 10 * 12 * 14 * 16 * 18 * 20)\n",
    "(1 * 3 * 5 * 7 * 9 * 11 * 13 * 15 * 17 * 19) * (1 * 2 * 3 * 4 * 5 * 6 * 7 * 8 * 9 * 10) * 2 ^ 10\n",
    "(1 * 3 * 5 * 7 * 9 * 11 * 13 * 15 * 17 * 19) * (1 * 3 * 5 * 7 * 9) * (2 * 4 * 6 * 8 * 10) * 2 ^ 10\n",
    "(1 * 3 * 5 * 7 * 9 * 11 * 13 * 15 * 17 * 19) * (1 * 3 * 5 * 7 * 9) * (1 * 2 * 3 * 4 * 5) * 2 ^ 5 * 2 ^ 10\n",
    "(1 * 3 * 5 * 7 * 9 * 11 * 13 * 15 * 17 * 19) * (1 * 3 * 5 * 7 * 9) * (1 * 3 * 5) * (2 * 4) * 2 ^ 5 * 2 ^ 10\n",
    "(1 * 3 * 5 * 7 * 9 * 11 * 13 * 15 * 17 * 19) * (1 * 3 * 5 * 7 * 9) * (1 * 3 * 5) * (1 * 2) * 2 ^ 2 * 2 ^ 5 * 2 ^ 10\n",
    "(1 * 3 * 5 * 7 * 9 * 11 * 13 * 15 * 17 * 19) * (1 * 3 * 5 * 7 * 9) * (1 * 3 * 5) * (1) * (2) * 2 ^ 2 * 2 ^ 5 * 2 ^ 10\n",
    "(1 * 3 * 5 * 7 * 9 * 11 * 13 * 15 * 17 * 19) * (1 * 3 * 5 * 7 * 9) * (1 * 3 * 5) * (1) * (\n",
    "    1) * 2 ^ 1 * 2 ^ 2 * 2 ^ 5 * 2 ^ 10\n",
    "2 ^ 18"
   ]
  },
  {
   "cell_type": "code",
   "execution_count": 1,
   "metadata": {},
   "outputs": [
    {
     "data": {
      "text/plain": [
       "2432902008176640000"
      ]
     },
     "execution_count": 1,
     "metadata": {},
     "output_type": "execute_result"
    }
   ],
   "source": [
    "(1 * 3 * 5 * 7 * 9 * 11 * 13 * 15 * 17 * 19) * (1 * 3 * 5 * 7 * 9) * (1 * 3 * 5) * (1) * (\n",
    "    1) * 2 ** 1 * 2 ** 2 * 2 ** 5 * 2 ** 10"
   ]
  },
  {
   "cell_type": "code",
   "execution_count": 2,
   "metadata": {},
   "outputs": [
    {
     "data": {
      "text/plain": [
       "2432902008176640000"
      ]
     },
     "execution_count": 2,
     "metadata": {},
     "output_type": "execute_result"
    }
   ],
   "source": [
    "import math\n",
    "\n",
    "math.factorial(20)"
   ]
  },
  {
   "cell_type": "code",
   "execution_count": 4,
   "metadata": {},
   "outputs": [
    {
     "data": {
      "text/plain": [
       "121645100408832000"
      ]
     },
     "execution_count": 4,
     "metadata": {},
     "output_type": "execute_result"
    }
   ],
   "source": [
    "(1 * 3 * 5 * 7 * 9 * 11 * 13 * 15 * 17 * 19) * (1 * 3 * 5 * 7 * 9) * (1 * 3) * (1) * (1) * 2 ** 16"
   ]
  },
  {
   "cell_type": "code",
   "execution_count": 5,
   "metadata": {},
   "outputs": [
    {
     "data": {
      "text/plain": [
       "121645100408832000"
      ]
     },
     "execution_count": 5,
     "metadata": {},
     "output_type": "execute_result"
    }
   ],
   "source": [
    "math.factorial(19)"
   ]
  },
  {
   "cell_type": "code",
   "execution_count": 8,
   "metadata": {},
   "outputs": [
    {
     "data": {
      "text/plain": [
       "6402373705728000"
      ]
     },
     "execution_count": 8,
     "metadata": {},
     "output_type": "execute_result"
    }
   ],
   "source": [
    "(1 * 3 * 5 * 7 * 9 * 11 * 13 * 15 * 17) * (1 * 3 * 5 * 7 * 9) * (1 * 3) * (1) * (1) * 2 ** 16"
   ]
  },
  {
   "cell_type": "code",
   "execution_count": 7,
   "metadata": {},
   "outputs": [
    {
     "data": {
      "text/plain": [
       "6402373705728000"
      ]
     },
     "execution_count": 7,
     "metadata": {},
     "output_type": "execute_result"
    }
   ],
   "source": [
    "math.factorial(18)"
   ]
  },
  {
   "cell_type": "code",
   "execution_count": 18,
   "metadata": {},
   "outputs": [],
   "source": [
    "def product(start: int, stop: int) -> int:\n",
    "    \"\"\"\n",
    "    Product of integers in range(start, stop, 2), computed recursively.\n",
    "        start and stop should both be odd, with start <= stop.\n",
    "    \"\"\"\n",
    "    num_factors = (stop - start) >> 1\n",
    "    if num_factors <= 8:\n",
    "        ans = start\n",
    "        for i in range(start + 2, stop, 2):\n",
    "            ans *= i\n",
    "        return ans\n",
    "    mid = (start + num_factors) | 1\n",
    "    return product(start, mid) * product(mid, stop)\n",
    "\n",
    "\n",
    "def factorial(n: int) -> int:\n",
    "    inner = outer = 1\n",
    "    upper = 3\n",
    "    for i in range(n.bit_length() - 2, -1, -1):\n",
    "        v = n >> i\n",
    "        if v <= 2:\n",
    "            continue\n",
    "        lower, upper = upper, (v + 1) | 1\n",
    "        inner *= product(lower, upper)\n",
    "        outer *= inner\n",
    "    return outer << (n - n.bit_count())\n",
    "\n",
    "# import math\n",
    "# for n in range(99):\n",
    "#     assert(factorial(n) == math.factorial(n))\n",
    "#     print(factorial(n))"
   ]
  },
  {
   "cell_type": "code",
   "execution_count": 21,
   "metadata": {},
   "outputs": [
    {
     "name": "stdout",
     "output_type": "stream",
     "text": [
      "3 5 3 3\n",
      "5 11 945 2835\n",
      "11 21 654729075 1856156927625\n"
     ]
    },
    {
     "data": {
      "text/plain": [
       "121645100408832000"
      ]
     },
     "execution_count": 21,
     "metadata": {},
     "output_type": "execute_result"
    }
   ],
   "source": [
    "factorial(19)"
   ]
  },
  {
   "cell_type": "code",
   "execution_count": 23,
   "metadata": {},
   "outputs": [],
   "source": [
    "import math"
   ]
  },
  {
   "cell_type": "code",
   "execution_count": 24,
   "metadata": {},
   "outputs": [
    {
     "data": {
      "text/plain": [
       "121645100408832000"
      ]
     },
     "execution_count": 24,
     "metadata": {},
     "output_type": "execute_result"
    }
   ],
   "source": [
    "math.factorial(19)"
   ]
  },
  {
   "cell_type": "code",
   "execution_count": 5,
   "metadata": {},
   "outputs": [],
   "source": [
    "a = '''        1, 1, 1, 1, 1,  //[0, 4]\n",
    "        2, 2, 2,  //[5, 7]\n",
    "        3, 3, 3,  //[8, 10]\n",
    "        4, 4, 4, 4,  //[11, 14]\n",
    "        5, 5, 5,  //[15, 17]\n",
    "        6, 6, 6,  //[18, 20]\n",
    "        7, 7, 7, 7,  //[21, 24]\n",
    "        8, 8, 8,  //[25, 27]\n",
    "        9, 9, 9,  //[28, 30]\n",
    "        10, 10, 10, 10,  //[31, 34]\n",
    "        11, 11, 11,  //[35, 37]\n",
    "        12, 12, 12,  //[38, 40]\n",
    "        13, 13, 13, 13,  //[41, 44]\n",
    "        14, 14, 14,  //[45, 47]\n",
    "        15, 15, 15,  //[48, 50]\n",
    "        16, 16, 16, 16,  //[51, 54]\n",
    "        17, 17, 17,  //[55, 57]\n",
    "        18, 18, 18,  //[58, 60]\n",
    "        19, 19, 19, 19,  //[61, 64]'''\n",
    "b = '''        10, 10, 10, 10, 10,  //[0, 4]\n",
    "        100, 100, 100,  //[5, 7]\n",
    "        1000, 1000, 1000,  //[8, 10]\n",
    "        10000, 10000, 10000, 10000,  //[11, 14]\n",
    "        100000, 100000, 100000,  //[15, 17]\n",
    "        1000000, 1000000, 1000000,  //[18, 20]\n",
    "        10000000, 10000000, 10000000, 10000000,  //[21, 24]\n",
    "        100000000, 100000000, 100000000,  //[25, 27]\n",
    "        1000000000, 1000000000, 1000000000,  //[28, 30]\n",
    "        10000000000, 10000000000, 10000000000, 10000000000,  //[31, 34]\n",
    "        100000000000, 100000000000, 100000000000,  //[35, 37]\n",
    "        1000000000000, 1000000000000, 1000000000000,  //[38, 40]\n",
    "        10000000000000, 10000000000000, 10000000000000, 10000000000000,  //[41, 44]\n",
    "        100000000000000, 100000000000000, 100000000000000,  //[45, 47]\n",
    "        1000000000000000, 1000000000000000, 1000000000000000,  //[48, 50]\n",
    "        10000000000000000, 10000000000000000, 10000000000000000, 10000000000000000,  //[51, 54]\n",
    "        100000000000000000, 100000000000000000, 100000000000000000,  //[55, 57]\n",
    "        1000000000000000000, 1000000000000000000, 1000000000000000000,  //[58, 60]\n",
    "        10000000000000000000, 10000000000000000000, 10000000000000000000, 10000000000000000000,  //[61, 64]'''\n"
   ]
  },
  {
   "cell_type": "code",
   "execution_count": 32,
   "metadata": {},
   "outputs": [
    {
     "data": {
      "text/plain": [
       "['  //[0, 4]',\n",
       " '  //[5, 7]',\n",
       " '  //[8, 10]',\n",
       " '  //[11, 14]',\n",
       " '  //[15, 17]',\n",
       " '  //[18, 20]',\n",
       " '  //[21, 24]',\n",
       " '  //[25, 27]',\n",
       " '  //[28, 30]',\n",
       " '  //[31, 34]',\n",
       " '  //[35, 37]',\n",
       " '  //[38, 40]',\n",
       " '  //[41, 44]',\n",
       " '  //[45, 47]',\n",
       " '  //[48, 50]',\n",
       " '  //[51, 54]',\n",
       " '  //[55, 57]',\n",
       " '  //[58, 60]',\n",
       " '  //[61, 64]']"
      ]
     },
     "execution_count": 32,
     "metadata": {},
     "output_type": "execute_result"
    }
   ],
   "source": [
    "c = list('  //' + l.split('  //')[-1] for l in a.splitlines())\n",
    "c"
   ]
  },
  {
   "cell_type": "code",
   "execution_count": 34,
   "metadata": {},
   "outputs": [
    {
     "name": "stdout",
     "output_type": "stream",
     "text": [
      "{1, 10}, { 1,  10}, { 1,  10}, { 1,  10}, { 1,  10},   //[0, 4]\n",
      "{2, 100}, { 2,  100}, { 2,  100},   //[5, 7]\n",
      "{3, 1000}, { 3,  1000}, { 3,  1000},   //[8, 10]\n",
      "{4, 10000}, { 4,  10000}, { 4,  10000}, { 4,  10000},   //[11, 14]\n",
      "{5, 100000}, { 5,  100000}, { 5,  100000},   //[15, 17]\n",
      "{6, 1000000}, { 6,  1000000}, { 6,  1000000},   //[18, 20]\n",
      "{7, 10000000}, { 7,  10000000}, { 7,  10000000}, { 7,  10000000},   //[21, 24]\n",
      "{8, 100000000}, { 8,  100000000}, { 8,  100000000},   //[25, 27]\n",
      "{9, 1000000000}, { 9,  1000000000}, { 9,  1000000000},   //[28, 30]\n",
      "{10, 10000000000}, { 10,  10000000000}, { 10,  10000000000}, { 10,  10000000000},   //[31, 34]\n",
      "{11, 100000000000}, { 11,  100000000000}, { 11,  100000000000},   //[35, 37]\n",
      "{12, 1000000000000}, { 12,  1000000000000}, { 12,  1000000000000},   //[38, 40]\n",
      "{13, 10000000000000}, { 13,  10000000000000}, { 13,  10000000000000}, { 13,  10000000000000},   //[41, 44]\n",
      "{14, 100000000000000}, { 14,  100000000000000}, { 14,  100000000000000},   //[45, 47]\n",
      "{15, 1000000000000000}, { 15,  1000000000000000}, { 15,  1000000000000000},   //[48, 50]\n",
      "{16, 10000000000000000}, { 16,  10000000000000000}, { 16,  10000000000000000}, { 16,  10000000000000000},   //[51, 54]\n",
      "{17, 100000000000000000}, { 17,  100000000000000000}, { 17,  100000000000000000},   //[55, 57]\n",
      "{18, 1000000000000000000}, { 18,  1000000000000000000}, { 18,  1000000000000000000},   //[58, 60]\n",
      "{19, 10000000000000000000}, { 19,  10000000000000000000}, { 19,  10000000000000000000}, { 19,  10000000000000000000},   //[61, 64]\n"
     ]
    }
   ],
   "source": [
    "for la, lb, anno in zip(a.splitlines(), b.splitlines(), c):\n",
    "    for base_digit, limit in zip(la.lstrip(' ').split(',')[:-2], lb.lstrip(' ').split(',')[:-2]):\n",
    "        print(f'{{{base_digit}, {limit}}}', end=', ')\n",
    "    print(anno)"
   ]
  },
  {
   "cell_type": "code",
   "execution_count": 14,
   "metadata": {},
   "outputs": [],
   "source": [
    "def week(y, m, d):\n",
    "    y -= m < 3\n",
    "    # t = [0, 0, 3, 2, 5, 0, 3, 5, 1, 4, 6, 2, 4][m]\n",
    "    t = ord('-bed=pen+mad.'[m])\n",
    "    return (y + (y >> 2) - y // 100 + y // 400 + t + d) % 7"
   ]
  },
  {
   "cell_type": "code",
   "execution_count": 16,
   "metadata": {},
   "outputs": [
    {
     "data": {
      "text/plain": [
       "0"
      ]
     },
     "execution_count": 16,
     "metadata": {},
     "output_type": "execute_result"
    }
   ],
   "source": [
    "week(2023, 1, 29)"
   ]
  },
  {
   "cell_type": "code",
   "execution_count": 10,
   "metadata": {},
   "outputs": [
    {
     "data": {
      "text/plain": [
       "[3, 0, 3, 2, 5, 0, 3, 5, 1, 4, 6, 2, 4]"
      ]
     },
     "execution_count": 10,
     "metadata": {},
     "output_type": "execute_result"
    }
   ],
   "source": [
    "list(map(lambda x: ord(x) % 7, '-bed=pen+mad.'))"
   ]
  }
 ],
 "metadata": {
  "kernelspec": {
   "display_name": "venv",
   "language": "python",
   "name": "python3"
  },
  "language_info": {
   "codemirror_mode": {
    "name": "ipython",
    "version": 3
   },
   "file_extension": ".py",
   "mimetype": "text/x-python",
   "name": "python",
   "nbconvert_exporter": "python",
   "pygments_lexer": "ipython3",
   "version": "3.11.4"
  },
  "orig_nbformat": 4,
  "vscode": {
   "interpreter": {
    "hash": "fe7f841ad5e08fdcc6e12752dcd76210a6d2232b4679bca7a547b7184e0807a8"
   }
  }
 },
 "nbformat": 4,
 "nbformat_minor": 2
}
