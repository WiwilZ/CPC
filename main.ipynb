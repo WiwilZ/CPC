{
 "cells": [
  {
   "cell_type": "markdown",
   "metadata": {},
   "source": [
    "# 唯一分解定理\n",
    "$$\n",
    "x=\\prod_{i=1}^{k}p_i^{c_i}，c_1<c_2<\\cdots<c_k\\\\\n",
    "因子个数为\\prod_{i=1}^k(c_i+1)（第i个因子指数有0\\sim c_i+1种取法，共有k个因子）\n",
    "$$"
   ]
  },
  {
   "cell_type": "code",
   "execution_count": null,
   "metadata": {},
   "outputs": [],
   "source": [
    "# primes = []\n",
    "# def get_prime_factor_counts(n):\n",
    "#     res = {}\n",
    "#     for i in primes:\n",
    "#         if i * i > n:\n",
    "#             break\n",
    "#         if n % i == 0:\n",
    "#             res[i] = 1\n",
    "#             n //= i\n",
    "#             while n % i == 0:\n",
    "#                 res[i] += 1\n",
    "#                 n //= i\n",
    "#     if n != 1:\n",
    "#         res[n] = 1\n",
    "#     return res\n",
    "\n",
    "def get_prime_factor_counts(n):\n",
    "    res = {}\n",
    "    for i in range(2, int(n ** 0.5) + 1):\n",
    "        if n % i == 0:\n",
    "            res[i] = 1\n",
    "            n //= i\n",
    "            while n % i == 0:\n",
    "                res[i] += 1\n",
    "                n //= i\n",
    "            if n == 1:\n",
    "                return res\n",
    "    if n != 1:\n",
    "        res[n] = 1\n",
    "    return res\n"
   ]
  },
  {
   "cell_type": "markdown",
   "metadata": {},
   "source": [
    "# 素数判定 30n + i 法"
   ]
  },
  {
   "cell_type": "code",
   "execution_count": null,
   "metadata": {},
   "outputs": [],
   "source": [
    "# 30n + 1 30n + 7 30n + 11 30n + 13 30n + 17 30n + 19 30n + 23 30n + 29\n",
    "def is_prime(n: int) -> bool:\n",
    "    if n in {2, 3, 5}:\n",
    "        return True\n",
    "    if n % 2 == 0 or n % 3 == 0 or n % 5 == 0 or n == 1:\n",
    "        return False\n",
    "    s = 7\n",
    "    while s <= int(n ** 0.5):\n",
    "        for i in (4, 2, 4, 2, 4, 6, 2, 6):\n",
    "            if n % s == 0:\n",
    "                return False\n",
    "            s += i\n",
    "    return True\n"
   ]
  },
  {
   "cell_type": "markdown",
   "metadata": {},
   "source": [
    "# 埃氏筛"
   ]
  },
  {
   "cell_type": "code",
   "execution_count": 4,
   "metadata": {},
   "outputs": [
    {
     "name": "stdout",
     "output_type": "stream",
     "text": [
      "[2, 3, 5, 7, 11, 13, 17, 19, 23, 29, 31, 37, 41, 43, 47, 53, 59, 61, 67, 71, 73, 79, 83, 89, 97]\n"
     ]
    }
   ],
   "source": [
    "n = 100\n",
    "N = n + 1\n",
    "\n",
    "is_prime = [True] * N\n",
    "\n",
    "for i in range(2, int(n ** 0.5) + 1):\n",
    "    if is_prime[i]:\n",
    "        is_prime[i * i::i] = [False] * len(is_prime[i * i::i])\n",
    "\n",
    "print(list(i for i in range(2, N) if is_prime[i]))"
   ]
  },
  {
   "cell_type": "markdown",
   "metadata": {},
   "source": [
    "# 欧拉筛"
   ]
  },
  {
   "cell_type": "code",
   "execution_count": null,
   "metadata": {},
   "outputs": [],
   "source": [
    "N = 10001\n",
    "\n",
    "is_prime = [True] * N\n",
    "primes = []\n",
    "\n",
    "for i in range(2, N):\n",
    "    if is_prime[i]:\n",
    "        primes.append(i)\n",
    "    for p in primes:\n",
    "        t = i * p\n",
    "        if t >= N:\n",
    "            break\n",
    "        is_prime[t] = False\n",
    "        if i % p == 0:\n",
    "            break\n"
   ]
  },
  {
   "cell_type": "markdown",
   "metadata": {},
   "source": [
    "# 欧拉函数$\\varphi$\n",
    "定义：\n",
    "$$\n",
    "\\varphi(n)=\\sum_{i=1}^n[gcd(i,n)=1]\n",
    "$$\n",
    "性质：\n",
    "$$\n",
    "设n=\\prod_{i=1}^kp_i^{c_i}，则\\varphi(n)=n\\prod_{i=1}^k\\frac{p_i-1}{p_i}\n",
    "$$\n",
    "$$\n",
    "\\sum_{d|n}\\varphi(d)=n\n",
    "$$\n",
    "$比n小且与n互质的数之和$\n",
    "$$\n",
    "f(n)=\\sum_{i=1}^n[gcd(i,n)=1]=\\begin{cases}\n",
    "    1, &\\quad n=1\\\\\n",
    "    \\frac{n\\varphi(n)}{2}, &\\quad n>1\n",
    "\\end{cases}\n",
    "$$\n",
    "$若i与n互质，则n-i也与n互质，每一对之和为n，共有\\varphi(n)对$"
   ]
  },
  {
   "cell_type": "code",
   "execution_count": 12,
   "metadata": {},
   "outputs": [
    {
     "data": {
      "text/plain": [
       "[0, 1, 1, 2, 2, 4, 2, 6, 4, 6, 4]"
      ]
     },
     "execution_count": 12,
     "metadata": {},
     "output_type": "execute_result"
    }
   ],
   "source": [
    "# def phi(n):\n",
    "#     ans = n\n",
    "#     for i in range(2, int(n ** 0.5) + 1):\n",
    "#         if n % i == 0:\n",
    "#             ans = ans // i * (i - 1)\n",
    "#             n //= i\n",
    "#             while n % i == 0:\n",
    "#                 n //= i\n",
    "#             if n == 1:\n",
    "#                 return ans\n",
    "#     if n != 1:\n",
    "#         return ans // n * (n - 1)\n",
    "# phi(10)\n",
    "\n",
    "N = 10001\n",
    "\n",
    "is_prime = [True] * N\n",
    "primes = []\n",
    "\n",
    "phi = [1] * N\n",
    "\n",
    "for i in range(2, N):\n",
    "    if is_prime[i]:\n",
    "        primes.append(i)\n",
    "        phi[i] = i - 1\n",
    "    for p in primes:\n",
    "        t = i * p\n",
    "        if t >= N:\n",
    "            break\n",
    "        is_prime[t] = False\n",
    "        if i % p == 0:\n",
    "            phi[t] = phi[i] * p\n",
    "            break\n",
    "        phi[t] = phi[i] * (p - 1)\n"
   ]
  },
  {
   "cell_type": "markdown",
   "metadata": {},
   "source": [
    "# 莫比乌斯函数$\\mu$\n",
    "$$\n",
    "设n=\\prod_{i=1}^kp_i^{c_i}，则\\mu(n)=\\begin{cases}\n",
    "    1, &\\quad n=1\\\\\n",
    "    0, &\\quad \\exists c_i>1\\\\\n",
    "    (-1)^k, &\\quad otherwise\n",
    "\\end{cases}\n",
    "$$"
   ]
  },
  {
   "cell_type": "code",
   "execution_count": 2,
   "metadata": {},
   "outputs": [],
   "source": [
    "N = 1001\n",
    "\n",
    "is_prime = [True] * N\n",
    "primes = []\n",
    "\n",
    "mu = [1] * N\n",
    "\n",
    "for i in range(2, N):\n",
    "    if is_prime[i]:\n",
    "        primes.append(i)\n",
    "        mu[i] = -1\n",
    "    for p in primes:\n",
    "        t = i * p\n",
    "        if t >= N:\n",
    "            break\n",
    "        is_prime[t] = False\n",
    "        if i % p == 0:\n",
    "            mu[t] = 0\n",
    "            break\n",
    "        mu[t] = -mu[i]\n"
   ]
  },
  {
   "cell_type": "markdown",
   "metadata": {},
   "source": [
    "# gcd和lcm"
   ]
  },
  {
   "cell_type": "code",
   "execution_count": 12,
   "metadata": {},
   "outputs": [],
   "source": [
    "def trailing_zeros(x: int) -> int:\n",
    "    return (x & -x).bit_length() - 1\n",
    "\n",
    "\n",
    "def gcd(a: int, b: int) -> int:\n",
    "    if a == 0:\n",
    "        return b\n",
    "    if b == 0:\n",
    "        return a\n",
    "    i, j = trailing_zeros(a), trailing_zeros(b)\n",
    "    k = min(i, j)\n",
    "    a >>= i\n",
    "    while True:\n",
    "        b >>= j\n",
    "        if a > b:\n",
    "            a, b = b, a\n",
    "        b -= a\n",
    "        if b == 0:\n",
    "            return a << k\n",
    "        j = trailing_zeros(b)\n",
    "\n",
    "\n",
    "def lcm(a: int, b: int) -> int:\n",
    "    if a == 0 or b == 0:\n",
    "        return 0\n",
    "    return a // gcd(a, b) * b\n"
   ]
  },
  {
   "cell_type": "markdown",
   "metadata": {},
   "source": [
    "# 贝祖定理\n",
    "$$设a,b是不全为零的整数，则存在整数x,y，使得ax+by=\\gcd(a,b).$$\n",
    "\n",
    "### 求解——扩展欧几里得算法\n",
    "$设q=\\lfloor\\frac{a}{b}\\rfloor，r=a\\mod b=a-bq$\n",
    "\n",
    "$\\gcd(a,b)=\\gcd(b,r)$\n",
    "$$\n",
    "\\begin{equation}\n",
    "\\begin{bmatrix}\n",
    "b \\\\\n",
    "r\n",
    "\\end{bmatrix}\n",
    "=\n",
    "\\begin{bmatrix}\n",
    "0&1 \\\\\n",
    "1&-q\n",
    "\\end{bmatrix}\n",
    "\\begin{bmatrix}\n",
    "a \\\\\n",
    "b\n",
    "\\end{bmatrix}\n",
    "\\end{equation}\n",
    "$$\n",
    "\n",
    "$$\n",
    "\\begin{equation}\n",
    "\\begin{bmatrix}\n",
    "\\gcd(a,b) \\\\\n",
    "0\n",
    "\\end{bmatrix}\n",
    "=\n",
    "\\cdots\n",
    "\\begin{bmatrix}\n",
    "0&1 \\\\\n",
    "1&-q\n",
    "\\end{bmatrix}\n",
    "\\begin{bmatrix}\n",
    "1&0 \\\\\n",
    "0&1\n",
    "\\end{bmatrix}\n",
    "\\begin{bmatrix}\n",
    "a \\\\\n",
    "b\n",
    "\\end{bmatrix}\n",
    "\\end{equation}\n",
    "$$\n",
    "\n",
    "设\n",
    "$$\n",
    "\\begin{equation}\n",
    "\\begin{bmatrix}\n",
    "x_1&x_2 \\\\\n",
    "x_3&x_4\n",
    "\\end{bmatrix}\n",
    "=\n",
    "\\begin{bmatrix}\n",
    "1&0 \\\\\n",
    "0&1\n",
    "\\end{bmatrix}\n",
    "\\end{equation}\n",
    "$$\n",
    "不断迭代\n",
    "$$\n",
    "\\begin{equation}\n",
    "\\begin{bmatrix}\n",
    "x_1&x_2 \\\\\n",
    "x_3&x_4\n",
    "\\end{bmatrix}\n",
    "=\n",
    "\\begin{bmatrix}\n",
    "0&1 \\\\\n",
    "1&-q\n",
    "\\end{bmatrix}\n",
    "\\begin{bmatrix}\n",
    "x_1&x_2 \\\\\n",
    "x_3&x_4\n",
    "\\end{bmatrix}\n",
    "=\n",
    "\\begin{bmatrix}\n",
    "x_3&x_4 \\\\\n",
    "x_1-qx_3&x_2-qx_4\n",
    "\\end{bmatrix}\n",
    "\\end{equation}\n",
    "$$"
   ]
  },
  {
   "cell_type": "code",
   "execution_count": 1,
   "metadata": {
    "ExecuteTime": {
     "end_time": "2023-08-25T18:29:03.604361400Z",
     "start_time": "2023-08-25T18:29:03.598398800Z"
    }
   },
   "outputs": [],
   "source": [
    "# def exgcd(a, b):\n",
    "#     if b == 0:\n",
    "#         return 1, 0, a\n",
    "#     q, r = divmod(a, b)\n",
    "#     y, x, gcd = exgcd(b, r)\n",
    "#     return x, y - q * x, gcd\n",
    "\n",
    "\n",
    "def exgcd(a, b):\n",
    "    x1, x2, x3, x4 = 1, 0, 0, 1\n",
    "    while b:\n",
    "        q, r = divmod(a, b)\n",
    "        x1, x2, x3, x4, a, b = x3, x4, x1 - q * x3, x2 - q * x4, b, r\n",
    "    return x1, x2, a\n"
   ]
  },
  {
   "cell_type": "markdown",
   "metadata": {},
   "source": [
    "## 乘法逆元\n",
    "$aa^{-1} \\equiv 1(\\text{mod}\\ p)$"
   ]
  },
  {
   "cell_type": "code",
   "execution_count": 127,
   "metadata": {},
   "outputs": [],
   "source": [
    "def inv(a, p):\n",
    "    x, y, gcd = exgcd(a, p)\n",
    "    return (x + p) % p if gcd == 1 else -1\n"
   ]
  },
  {
   "cell_type": "markdown",
   "metadata": {},
   "source": [
    "# 中国剩余定理\n",
    "$$\n",
    "\\begin{cases}\n",
    "    x \\equiv a_1(\\text{mod}\\ m_1)\\\\\n",
    "    x \\equiv a_2(\\text{mod}\\ m_2)\\\\\n",
    "    \\quad \\vdots \\\\\n",
    "    x \\equiv a_n(\\text{mod}\\ m_n)\n",
    "\\end{cases}\n",
    "$$"
   ]
  },
  {
   "cell_type": "code",
   "execution_count": null,
   "metadata": {},
   "outputs": [],
   "source": [
    "import math\n",
    "\n",
    "\n",
    "def crt(remainders, mods):\n",
    "    M = math.prod(mods)\n",
    "    ans = 0\n",
    "    for r, m in zip(remainders, mods):\n",
    "        n = M // m\n",
    "        inv_n = inv(n, m)\n",
    "        ans = (ans + r * n * inv_n) % M\n",
    "    return ans\n"
   ]
  },
  {
   "cell_type": "markdown",
   "metadata": {},
   "source": [
    "# 快速幂"
   ]
  },
  {
   "cell_type": "code",
   "execution_count": null,
   "metadata": {},
   "outputs": [],
   "source": [
    "mod = 99999999\n",
    "\n",
    "\n",
    "def fast_pow(x, n):\n",
    "    ans = 1\n",
    "    while n:\n",
    "        if n & 1:\n",
    "            ans = ans * x % mod\n",
    "        x = x * x % mod\n",
    "        n >>= 1\n",
    "    return ans\n"
   ]
  },
  {
   "cell_type": "markdown",
   "metadata": {
    "collapsed": false
   },
   "source": [
    "# 矩阵快速幂"
   ]
  },
  {
   "cell_type": "code",
   "execution_count": 2,
   "metadata": {
    "ExecuteTime": {
     "end_time": "2023-08-26T03:25:25.528435Z",
     "start_time": "2023-08-26T03:25:25.519929900Z"
    },
    "collapsed": false
   },
   "outputs": [],
   "source": [
    "mod = 99999999\n",
    "\n",
    "\n",
    "def mat_mul(A, B):\n",
    "    return [[sum(a * b % mod for a, b in zip(row, col)) % mod for col in zip(*B)] for row in A]\n",
    "\n",
    "\n",
    "def mat_pow(A, n):\n",
    "    res = [[0] * len(A) for _ in range(len(A))]\n",
    "    for i in range(len(res)):\n",
    "        res[i][i] = 1\n",
    "    while n:\n",
    "        if n & 1:\n",
    "            res = mat_mul(res, m)\n",
    "        A = mat_mul(A, A)\n",
    "        n >>= 1\n",
    "    return res\n"
   ]
  },
  {
   "cell_type": "markdown",
   "metadata": {
    "collapsed": false
   },
   "source": [
    "# 线段树"
   ]
  },
  {
   "cell_type": "code",
   "execution_count": null,
   "metadata": {
    "collapsed": false
   },
   "outputs": [],
   "source": [
    "from array import array\n",
    "\n",
    "\n",
    "class ST:\n",
    "    def __init__(self, n, initial):\n",
    "        N = (n + 1) << 2\n",
    "        self.n = n\n",
    "        self.tree = array('q', [0] * N)\n",
    "        self.mark = array('q', [0] * N)\n",
    "        self.initial = array('q', [0] + list(initial))\n",
    "        self._build(1, 1, n)\n",
    "\n",
    "    def __setitem__(self, key, d):\n",
    "        l, r = key\n",
    "        self._update(l, r, d, 1, 1, self.n)\n",
    "\n",
    "    def __getitem__(self, key):\n",
    "        l, r = key\n",
    "        return self._query(l, r, 1, 1, self.n)\n",
    "\n",
    "    def _build(self, p, cl, cr):\n",
    "        if cl == cr:\n",
    "            self.tree[p] = self.initial[cl]\n",
    "            return\n",
    "        mid = (cl + cr) >> 1\n",
    "        self._build(p << 1, cl, mid)\n",
    "        self._build(p << 1 | 1, mid + 1, cr)\n",
    "        self._push_up(p)\n",
    "\n",
    "    def _push_up(self, p):\n",
    "        self.tree[p] = self.tree[p << 1] + self.tree[p << 1 | 1]\n",
    "\n",
    "    def _f(self, p, d, width):\n",
    "        self.tree[p] += d * width\n",
    "        self.mark[p] += d\n",
    "\n",
    "    def _push_down(self, p, width):\n",
    "        if width <= 1:\n",
    "            return\n",
    "        self._f(p << 1, self.mark[p], width - (width >> 1))\n",
    "        self._f(p << 1 | 1, self.mark[p], width >> 1)\n",
    "        self.mark[p] = 0\n",
    "\n",
    "    def _update(self, l, r, d, p, cl, cr):\n",
    "        width = cr - cl + 1\n",
    "        if cl >= l and cr <= r:\n",
    "            self._f(p, d, width)\n",
    "            return\n",
    "        self._push_down(p, width)\n",
    "        mid = (l + r) >> 1\n",
    "        if mid >= l:\n",
    "            self._update(l, r, d, p << 1, cl, mid)\n",
    "        if mid < r:\n",
    "            self._update(l, r, d, p << 1 | 1, mid + 1, cr)\n",
    "        self._push_up(p)\n",
    "\n",
    "    def _query(self, l, r, p, cl, cr):\n",
    "        if cl >= l and cr <= r:\n",
    "            return self.tree[p]\n",
    "        self._push_down(p, cr - cl + 1)\n",
    "        mid = (l + r) >> 1\n",
    "        ans = 0\n",
    "        if mid >= l:\n",
    "            ans += self._query(l, r, p << 1, cl, mid)\n",
    "        if mid < r:\n",
    "            ans += self._query(l, r, p << 1 | 1, mid + 1, cr)\n",
    "        return ans\n",
    "\n",
    "\n",
    "n, m = map(int, input().split())\n",
    "st = ST(n, map(int, input().split()))\n",
    "for _ in range(m):\n",
    "    z, x, y, *k = map(int, input().split())\n",
    "    if z == 1:\n",
    "        st[x, y] = k[0]\n",
    "    else:\n",
    "        print(st[x, y])"
   ]
  },
  {
   "cell_type": "markdown",
   "metadata": {},
   "source": [
    "# 快速阶乘算法"
   ]
  },
  {
   "cell_type": "code",
   "execution_count": 129,
   "metadata": {},
   "outputs": [
    {
     "data": {
      "text/plain": [
       "True"
      ]
     },
     "execution_count": 129,
     "metadata": {},
     "output_type": "execute_result"
    }
   ],
   "source": [
    "import math\n",
    "\n",
    "\n",
    "def factorial(n: int) -> int:\n",
    "    \"\"\"\n",
    "    factorial(20) =\n",
    "        (16)*\n",
    "        (8) *\n",
    "        (4  * 12)*\n",
    "        (2  * 6  * 10 * 14 * 18)*\n",
    "        (1  * 3  * 5  * 7  * 9  * 11 * 13 * 15 * 17 * 19)\n",
    "        \n",
    "        (1) *                                              v = 20 >> 4 = 1\n",
    "        (1) *                                              v = 20 >> 3 = 2\n",
    "        (1  * 3) *                                         v = 20 >> 2 = 5  upper = (v + 1) | 1 = 7\n",
    "        (1  * 3  * 5  * 7  * 9) *                          v = 20 >> 1 = 15 upper = (v + 1) | 1 = 17\n",
    "        (1  * 3  * 5  * 7  * 9  * 11 * 13 * 15 * 17 * 19)  v = 20 >> 0 = 20 upper = (v + 1) | 1 = 21\n",
    "    \"\"\"\n",
    "    inner, outer, upper = 1, 1, 3\n",
    "    for i in range(n.bit_length() - 2, -1, -1):\n",
    "        v = n >> i  # v = n // 2 ** i\n",
    "        if v <= 2:\n",
    "            continue\n",
    "        lower, upper = upper, (v + 1) | 1  # (v + 1) | 1 是最小的严格大于 n // 2 ** i 的奇数\n",
    "        # inner 为 (0, n // 2 ** i] 区间所有奇数之积\n",
    "        inner = math.prod(range(lower, upper, 2), start=inner)\n",
    "        outer *= inner\n",
    "    k = n - n.bit_count()  # k = n//2 + n//4 + n//8 + ....\n",
    "    return outer << k\n",
    "\n",
    "\n",
    "all(factorial(i) == math.factorial(i) for i in range(2000))"
   ]
  },
  {
   "cell_type": "markdown",
   "metadata": {
    "collapsed": false
   },
   "source": [
    "# 阿拉伯数字转英文"
   ]
  },
  {
   "cell_type": "code",
   "execution_count": 2,
   "metadata": {
    "ExecuteTime": {
     "end_time": "2023-09-17T08:20:32.903965100Z",
     "start_time": "2023-09-17T08:20:32.893706Z"
    },
    "collapsed": false
   },
   "outputs": [
    {
     "data": {
      "text/plain": [
       "'One Billion Two Hundred Thirty Four Million Five Hundred Sixty Seven Thousand Eight Hundred Ninety'"
      ]
     },
     "execution_count": 2,
     "metadata": {},
     "output_type": "execute_result"
    }
   ],
   "source": [
    "def numberToWords(num: int) -> str:\n",
    "    singles = ['Zero', 'One', 'Two', 'Three', 'Four', 'Five', 'Six', 'Seven', 'Eight', 'Nine', 'Ten', 'Eleven',\n",
    "               'Twelve', 'Thirteen', 'Fourteen', 'Fifteen', 'Sixteen', 'Seventeen', 'Eighteen', 'Nineteen']\n",
    "    tens = ['', '', 'Twenty', 'Thirty', 'Forty', 'Fifty', 'Sixty', 'Seventy', 'Eighty', 'Ninety']\n",
    "    levels = ['', 'Thousand', 'Million', 'Billion']\n",
    "\n",
    "    if num < 20:\n",
    "        return 'Zero'\n",
    "    \n",
    "    res = []\n",
    "    unit = 1000000000\n",
    "    for i in range(3, -1, -1):\n",
    "        if num >= unit:\n",
    "            n, num = divmod(num, unit)\n",
    "            if n >= 100:\n",
    "                q, n = divmod(n, 100)\n",
    "                res.append(f'{singles[q]} Hundred')\n",
    "            if n >= 20:\n",
    "                q, n = divmod(n, 10)\n",
    "                res.append(tens[q])\n",
    "            if n > 0:\n",
    "                res.append(singles[n])\n",
    "            if i == 0:\n",
    "                break\n",
    "            res.append(levels[i])\n",
    "        unit //= 1000\n",
    "    return ' '.join(res)\n",
    "\n",
    "numberToWords(1234567890)"
   ]
  },
  {
   "cell_type": "markdown",
   "metadata": {},
   "source": [
    "# 阿拉伯数字转中文"
   ]
  },
  {
   "cell_type": "code",
   "execution_count": 43,
   "metadata": {},
   "outputs": [
    {
     "data": {
      "text/plain": [
       "'一千零一十万零一千零一十'"
      ]
     },
     "execution_count": 43,
     "metadata": {},
     "output_type": "execute_result"
    }
   ],
   "source": [
    "def number_to_chinese(num: int, big: bool = False) -> str:\n",
    "    if big:\n",
    "        chars = '零壹贰叁肆伍陆柒捌玖'\n",
    "        units = ['', '拾', '佰', '仟']\n",
    "        levels = ['', '萬', '億']\n",
    "    else:\n",
    "        chars = '零一二三四五六七八九'\n",
    "        units = ['', '十', '百', '千']\n",
    "        levels = ['', '万', '亿']\n",
    "\n",
    "    if num < 10:\n",
    "        return chars[num]\n",
    "\n",
    "    str_num = str(num)\n",
    "    chunks = [str_num[max(i - 4, 0):i] for i in range(len(str_num), 0, -4)][::-1]\n",
    "\n",
    "    result = ''\n",
    "    continuous_zero = 0\n",
    "    for i, chunk in enumerate(chunks):\n",
    "        for j, c in enumerate(chunk):\n",
    "            if c == '0':\n",
    "                continuous_zero += 1\n",
    "            else:\n",
    "                if continuous_zero > 0:\n",
    "                    continuous_zero = 0\n",
    "                    result += chars[0]\n",
    "                result += chars[int(c)] + units[len(chunk) - 1 - j]\n",
    "        if continuous_zero < len(chunk):\n",
    "            result += levels[len(chunks) - 1 - i]\n",
    "    if result[:2] == '一十':\n",
    "        result = result[1:]\n",
    "    return result\n",
    "\n",
    "\n",
    "number_to_chinese(10101010)"
   ]
  },
  {
   "cell_type": "markdown",
   "metadata": {},
   "source": [
    "# 星期公式"
   ]
  },
  {
   "cell_type": "code",
   "execution_count": null,
   "metadata": {},
   "outputs": [],
   "source": [
    "# 蔡勒公式\n",
    "def Zeller(year: int, month: int, day: int) -> int:\n",
    "    if month in {1, 2}:\n",
    "        month += 12\n",
    "        year -= 1\n",
    "    century, year = divmod(year, 100)\n",
    "    return (century // 4 - 2 * century + year + year // 4 + 13 * (month + 1) // 5 + day - 1) % 7\n",
    "\n",
    "\n",
    "# 基姆拉尔森公式\n",
    "def Kimlarsen(year: int, month: int, day: int) -> int:\n",
    "    if month in {1, 2}:\n",
    "        month += 12\n",
    "        year -= 1\n",
    "    return (day + 1 + month * 2 + 3 * (month + 1) // 5 + year + year // 4 - year // 100 + year // 400) % 7\n",
    "\n",
    "\n",
    "def Cainong(year: int, month: int, day: int) -> int:\n",
    "    if month in (1, 2):\n",
    "        month += 12\n",
    "        year -= 1\n",
    "    century, year = divmod(year, 100)\n",
    "    return ((century % 4) * 5 + year + year // 4 + (13 * month + 8) // 5 + day) % 7\n",
    "\n",
    "\n",
    "def TomohikoSakamoto(year: int, month: int, day: int) -> int:\n",
    "    year -= month < 3\n",
    "    t = [0, 0, 3, 2, 5, 0, 3, 5, 1, 4, 6, 2, 4][month]\n",
    "    return (year + year // 4 - year // 100 + year // 400 + t + day) % 7\n",
    "\n",
    "\n",
    "year, month, day = 2023, 7, 16\n",
    "Zeller(year, month, day), Kimlarsen(year, month, day), Cainong(year, month, day), TomohikoSakamoto(year, month, day)"
   ]
  },
  {
   "cell_type": "markdown",
   "metadata": {
    "collapsed": false
   },
   "source": [
    "# 牛顿迭代法求$\\lfloor\\sqrt n\\rfloor$"
   ]
  },
  {
   "cell_type": "code",
   "execution_count": 8,
   "metadata": {
    "ExecuteTime": {
     "end_time": "2023-08-31T06:03:50.091146800Z",
     "start_time": "2023-08-31T06:03:50.090642200Z"
    },
    "collapsed": false
   },
   "outputs": [],
   "source": [
    "def floor_sqrt(n: int) -> int:\n",
    "    x0 = n\n",
    "    while True:\n",
    "        x1 = (x0 + n // x0) >> 1\n",
    "        if x1 >= x0:\n",
    "            break\n",
    "        x0 = x1\n",
    "    return x0\n"
   ]
  },
  {
   "cell_type": "markdown",
   "metadata": {
    "collapsed": false
   },
   "source": [
    "# 将序列分割为非空子序列的所有组合"
   ]
  },
  {
   "cell_type": "code",
   "execution_count": 22,
   "metadata": {
    "ExecuteTime": {
     "end_time": "2023-08-31T06:12:01.539234700Z",
     "start_time": "2023-08-31T06:12:01.529135700Z"
    },
    "collapsed": false
   },
   "outputs": [
    {
     "data": {
      "text/plain": [
       "[['1234'],\n",
       " ['1', '234'],\n",
       " ['12', '34'],\n",
       " ['1', '2', '34'],\n",
       " ['123', '4'],\n",
       " ['1', '23', '4'],\n",
       " ['12', '3', '4'],\n",
       " ['1', '2', '3', '4']]"
      ]
     },
     "execution_count": 22,
     "metadata": {},
     "output_type": "execute_result"
    }
   ],
   "source": [
    "def split(seq):\n",
    "    n = len(seq)\n",
    "    for i in range(1 << (n - 1)):\n",
    "        res = []\n",
    "        start = 0\n",
    "        for j in range(n):\n",
    "            if i >> j & 1:\n",
    "                res.append(seq[start:j + 1])\n",
    "                start = j + 1\n",
    "        res.append(seq[start:])\n",
    "        yield res\n",
    "\n",
    "\n",
    "list(split('1234'))"
   ]
  },
  {
   "cell_type": "code",
   "execution_count": 24,
   "metadata": {
    "ExecuteTime": {
     "end_time": "2023-08-31T06:13:08.134353100Z",
     "start_time": "2023-08-31T06:13:08.122045300Z"
    },
    "collapsed": false
   },
   "outputs": [
    {
     "data": {
      "text/plain": [
       "[[], ['a'], ['b'], ['a', 'b'], ['c'], ['a', 'c'], ['b', 'c'], ['a', 'b', 'c']]"
      ]
     },
     "execution_count": 24,
     "metadata": {},
     "output_type": "execute_result"
    }
   ],
   "source": [
    "def subsets(seq):\n",
    "    for i in range(1 << len(seq)):\n",
    "        yield [e for j, e in enumerate(seq) if i >> j & 1]\n",
    "\n",
    "\n",
    "list(subsets('abc'))"
   ]
  },
  {
   "cell_type": "markdown",
   "metadata": {
    "collapsed": false
   },
   "source": [
    "# Boyer-Moore 投票算法求众数"
   ]
  },
  {
   "cell_type": "code",
   "execution_count": 1,
   "metadata": {
    "ExecuteTime": {
     "end_time": "2023-09-06T12:28:40.055603900Z",
     "start_time": "2023-09-06T12:28:40.048084300Z"
    },
    "collapsed": false
   },
   "outputs": [
    {
     "data": {
      "text/plain": [
       "2"
      ]
     },
     "execution_count": 1,
     "metadata": {},
     "output_type": "execute_result"
    }
   ],
   "source": [
    "def mode(nums):\n",
    "    candidate = None\n",
    "    count = 0\n",
    "    for num in nums:\n",
    "        if count == 0:\n",
    "            candidate = num\n",
    "            count = 1\n",
    "        elif num == candidate:\n",
    "            count += 1\n",
    "        else:\n",
    "            count -= 1\n",
    "    return candidate\n",
    "\n",
    "\n",
    "mode([1, 2, 3, 2, 2, 2, 5, 4, 2])"
   ]
  },
  {
   "cell_type": "markdown",
   "metadata": {
    "collapsed": false
   },
   "source": [
    "# 约瑟夫环"
   ]
  },
  {
   "cell_type": "code",
   "execution_count": null,
   "metadata": {
    "collapsed": false
   },
   "outputs": [],
   "source": [
    "def last_remaining(n, m):\n",
    "    ans = 0\n",
    "    for i in range(2, n + 1):\n",
    "        ans = (ans + m) % i\n",
    "    return ans"
   ]
  }
 ],
 "metadata": {
  "kernelspec": {
   "display_name": "venv",
   "language": "python",
   "name": "python3"
  },
  "language_info": {
   "codemirror_mode": {
    "name": "ipython",
    "version": 3
   },
   "file_extension": ".py",
   "mimetype": "text/x-python",
   "name": "python",
   "nbconvert_exporter": "python",
   "pygments_lexer": "ipython3",
   "version": "3.11.6"
  },
  "orig_nbformat": 4,
  "vscode": {
   "interpreter": {
    "hash": "fe7f841ad5e08fdcc6e12752dcd76210a6d2232b4679bca7a547b7184e0807a8"
   }
  }
 },
 "nbformat": 4,
 "nbformat_minor": 2
}
